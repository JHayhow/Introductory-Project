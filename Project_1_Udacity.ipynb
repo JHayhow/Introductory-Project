{
  "nbformat": 4,
  "nbformat_minor": 0,
  "metadata": {
    "colab": {
      "name": "Project 1 Udacity",
      "provenance": [],
      "authorship_tag": "ABX9TyNiurCgQWqQAldDEqcO0OhT",
      "include_colab_link": true
    },
    "kernelspec": {
      "name": "python3",
      "display_name": "Python 3"
    },
    "language_info": {
      "name": "python"
    }
  },
  "cells": [
    {
      "cell_type": "markdown",
      "metadata": {
        "id": "view-in-github",
        "colab_type": "text"
      },
      "source": [
        "<a href=\"https://colab.research.google.com/github/JHayhow/Project-1-Global-and-Local-Temperatures/blob/main/Project_1_Udacity.ipynb\" target=\"_parent\"><img src=\"https://colab.research.google.com/assets/colab-badge.svg\" alt=\"Open In Colab\"/></a>"
      ]
    },
    {
      "cell_type": "markdown",
      "metadata": {
        "id": "g2lTWO9-FYbi"
      },
      "source": [
        "Relevant SQL Code for pulling the data:\n",
        "\n",
        "Select * from global_data;\n",
        "\n",
        "Select * from city_list\n",
        "where country='United Kingdom';\n",
        "\n",
        "Select * from city_data\n",
        "where country='United Kingdom' and city='London';"
      ]
    },
    {
      "cell_type": "markdown",
      "metadata": {
        "id": "1mGMvgdEPLpG"
      },
      "source": [
        "Importing the Temperature Data"
      ]
    },
    {
      "cell_type": "code",
      "metadata": {
        "id": "02-jhRlcFbvN"
      },
      "source": [
        "import pandas as pd\n",
        "import numpy as np\n",
        "import matplotlib.pyplot as plt"
      ],
      "execution_count": 1,
      "outputs": []
    },
    {
      "cell_type": "code",
      "metadata": {
        "id": "xN4UFtr2Ffvi"
      },
      "source": [
        "London_Temperatures = pd.read_csv('London Temp Data.csv')\n",
        "y = London_Temperatures.iloc[:,-1].values"
      ],
      "execution_count": 2,
      "outputs": []
    },
    {
      "cell_type": "code",
      "metadata": {
        "colab": {
          "base_uri": "https://localhost:8080/",
          "height": 204
        },
        "id": "OQ_bCM_7Gd5u",
        "outputId": "b8e49a88-7178-49a6-8fcf-9cb190a9cdef"
      },
      "source": [
        "London_Temperatures.head()"
      ],
      "execution_count": 3,
      "outputs": [
        {
          "output_type": "execute_result",
          "data": {
            "text/html": [
              "<div>\n",
              "<style scoped>\n",
              "    .dataframe tbody tr th:only-of-type {\n",
              "        vertical-align: middle;\n",
              "    }\n",
              "\n",
              "    .dataframe tbody tr th {\n",
              "        vertical-align: top;\n",
              "    }\n",
              "\n",
              "    .dataframe thead th {\n",
              "        text-align: right;\n",
              "    }\n",
              "</style>\n",
              "<table border=\"1\" class=\"dataframe\">\n",
              "  <thead>\n",
              "    <tr style=\"text-align: right;\">\n",
              "      <th></th>\n",
              "      <th>year</th>\n",
              "      <th>city</th>\n",
              "      <th>country</th>\n",
              "      <th>avg_temp</th>\n",
              "      <th>7-year moving average</th>\n",
              "    </tr>\n",
              "  </thead>\n",
              "  <tbody>\n",
              "    <tr>\n",
              "      <th>0</th>\n",
              "      <td>1743</td>\n",
              "      <td>London</td>\n",
              "      <td>United Kingdom</td>\n",
              "      <td>7.54</td>\n",
              "      <td>NaN</td>\n",
              "    </tr>\n",
              "    <tr>\n",
              "      <th>1</th>\n",
              "      <td>1744</td>\n",
              "      <td>London</td>\n",
              "      <td>United Kingdom</td>\n",
              "      <td>10.34</td>\n",
              "      <td>NaN</td>\n",
              "    </tr>\n",
              "    <tr>\n",
              "      <th>2</th>\n",
              "      <td>1745</td>\n",
              "      <td>London</td>\n",
              "      <td>United Kingdom</td>\n",
              "      <td>4.13</td>\n",
              "      <td>NaN</td>\n",
              "    </tr>\n",
              "    <tr>\n",
              "      <th>3</th>\n",
              "      <td>1746</td>\n",
              "      <td>London</td>\n",
              "      <td>United Kingdom</td>\n",
              "      <td>NaN</td>\n",
              "      <td>NaN</td>\n",
              "    </tr>\n",
              "    <tr>\n",
              "      <th>4</th>\n",
              "      <td>1747</td>\n",
              "      <td>London</td>\n",
              "      <td>United Kingdom</td>\n",
              "      <td>NaN</td>\n",
              "      <td>NaN</td>\n",
              "    </tr>\n",
              "  </tbody>\n",
              "</table>\n",
              "</div>"
            ],
            "text/plain": [
              "   year    city         country  avg_temp  7-year moving average\n",
              "0  1743  London  United Kingdom      7.54                    NaN\n",
              "1  1744  London  United Kingdom     10.34                    NaN\n",
              "2  1745  London  United Kingdom      4.13                    NaN\n",
              "3  1746  London  United Kingdom       NaN                    NaN\n",
              "4  1747  London  United Kingdom       NaN                    NaN"
            ]
          },
          "metadata": {},
          "execution_count": 3
        }
      ]
    },
    {
      "cell_type": "code",
      "metadata": {
        "colab": {
          "base_uri": "https://localhost:8080/",
          "height": 204
        },
        "id": "tgWGUEXvLwam",
        "outputId": "ac5e2702-4496-4e8a-d129-66606da64b8c"
      },
      "source": [
        "London_Temperatures.tail()"
      ],
      "execution_count": 4,
      "outputs": [
        {
          "output_type": "execute_result",
          "data": {
            "text/html": [
              "<div>\n",
              "<style scoped>\n",
              "    .dataframe tbody tr th:only-of-type {\n",
              "        vertical-align: middle;\n",
              "    }\n",
              "\n",
              "    .dataframe tbody tr th {\n",
              "        vertical-align: top;\n",
              "    }\n",
              "\n",
              "    .dataframe thead th {\n",
              "        text-align: right;\n",
              "    }\n",
              "</style>\n",
              "<table border=\"1\" class=\"dataframe\">\n",
              "  <thead>\n",
              "    <tr style=\"text-align: right;\">\n",
              "      <th></th>\n",
              "      <th>year</th>\n",
              "      <th>city</th>\n",
              "      <th>country</th>\n",
              "      <th>avg_temp</th>\n",
              "      <th>7-year moving average</th>\n",
              "    </tr>\n",
              "  </thead>\n",
              "  <tbody>\n",
              "    <tr>\n",
              "      <th>266</th>\n",
              "      <td>2009</td>\n",
              "      <td>London</td>\n",
              "      <td>United Kingdom</td>\n",
              "      <td>10.52</td>\n",
              "      <td>10.720000</td>\n",
              "    </tr>\n",
              "    <tr>\n",
              "      <th>267</th>\n",
              "      <td>2010</td>\n",
              "      <td>London</td>\n",
              "      <td>United Kingdom</td>\n",
              "      <td>9.38</td>\n",
              "      <td>10.515714</td>\n",
              "    </tr>\n",
              "    <tr>\n",
              "      <th>268</th>\n",
              "      <td>2011</td>\n",
              "      <td>London</td>\n",
              "      <td>United Kingdom</td>\n",
              "      <td>11.19</td>\n",
              "      <td>10.575714</td>\n",
              "    </tr>\n",
              "    <tr>\n",
              "      <th>269</th>\n",
              "      <td>2012</td>\n",
              "      <td>London</td>\n",
              "      <td>United Kingdom</td>\n",
              "      <td>10.00</td>\n",
              "      <td>10.485714</td>\n",
              "    </tr>\n",
              "    <tr>\n",
              "      <th>270</th>\n",
              "      <td>2013</td>\n",
              "      <td>London</td>\n",
              "      <td>United Kingdom</td>\n",
              "      <td>9.91</td>\n",
              "      <td>10.315714</td>\n",
              "    </tr>\n",
              "  </tbody>\n",
              "</table>\n",
              "</div>"
            ],
            "text/plain": [
              "     year    city         country  avg_temp  7-year moving average\n",
              "266  2009  London  United Kingdom     10.52              10.720000\n",
              "267  2010  London  United Kingdom      9.38              10.515714\n",
              "268  2011  London  United Kingdom     11.19              10.575714\n",
              "269  2012  London  United Kingdom     10.00              10.485714\n",
              "270  2013  London  United Kingdom      9.91              10.315714"
            ]
          },
          "metadata": {},
          "execution_count": 4
        }
      ]
    },
    {
      "cell_type": "code",
      "metadata": {
        "id": "UwYooAmTHRl7"
      },
      "source": [
        "moving_av_london = London_Temperatures['7-year moving average']\n",
        "year = London_Temperatures['year']"
      ],
      "execution_count": 5,
      "outputs": []
    },
    {
      "cell_type": "code",
      "metadata": {
        "id": "a0t7zMkjJjvy"
      },
      "source": [
        "moving_av_london = moving_av_london.iloc[7:]"
      ],
      "execution_count": 6,
      "outputs": []
    },
    {
      "cell_type": "code",
      "metadata": {
        "colab": {
          "base_uri": "https://localhost:8080/"
        },
        "id": "YFBIqqIgJtOJ",
        "outputId": "a2ede963-eb2d-4b54-e1a9-89bae19f0121"
      },
      "source": [
        "moving_av_london.head()"
      ],
      "execution_count": 7,
      "outputs": [
        {
          "output_type": "execute_result",
          "data": {
            "text/plain": [
              "7     8.240000\n",
              "8     8.123333\n",
              "9     8.926667\n",
              "10    9.050000\n",
              "11    9.080000\n",
              "Name: 7-year moving average, dtype: float64"
            ]
          },
          "metadata": {},
          "execution_count": 7
        }
      ]
    },
    {
      "cell_type": "code",
      "metadata": {
        "id": "gVIcVeVrGn9-"
      },
      "source": [
        "global_data = pd.read_csv('global_data.csv')\n",
        "#Cutting off last two rows of Global Data so that the years match\n",
        "global_data=global_data[:-2]\n",
        "moving_av_global = global_data['7-year moving average']\n",
        "years = global_data['year']"
      ],
      "execution_count": 8,
      "outputs": []
    },
    {
      "cell_type": "code",
      "metadata": {
        "colab": {
          "base_uri": "https://localhost:8080/",
          "height": 204
        },
        "id": "WlHAQsYXHHSm",
        "outputId": "25eb2aa9-c66f-4d46-ce58-76c84d813788"
      },
      "source": [
        "global_data.head()"
      ],
      "execution_count": 9,
      "outputs": [
        {
          "output_type": "execute_result",
          "data": {
            "text/html": [
              "<div>\n",
              "<style scoped>\n",
              "    .dataframe tbody tr th:only-of-type {\n",
              "        vertical-align: middle;\n",
              "    }\n",
              "\n",
              "    .dataframe tbody tr th {\n",
              "        vertical-align: top;\n",
              "    }\n",
              "\n",
              "    .dataframe thead th {\n",
              "        text-align: right;\n",
              "    }\n",
              "</style>\n",
              "<table border=\"1\" class=\"dataframe\">\n",
              "  <thead>\n",
              "    <tr style=\"text-align: right;\">\n",
              "      <th></th>\n",
              "      <th>year</th>\n",
              "      <th>avg_temp</th>\n",
              "      <th>7-year moving average</th>\n",
              "    </tr>\n",
              "  </thead>\n",
              "  <tbody>\n",
              "    <tr>\n",
              "      <th>0</th>\n",
              "      <td>1750</td>\n",
              "      <td>8.72</td>\n",
              "      <td>NaN</td>\n",
              "    </tr>\n",
              "    <tr>\n",
              "      <th>1</th>\n",
              "      <td>1751</td>\n",
              "      <td>7.98</td>\n",
              "      <td>NaN</td>\n",
              "    </tr>\n",
              "    <tr>\n",
              "      <th>2</th>\n",
              "      <td>1752</td>\n",
              "      <td>5.78</td>\n",
              "      <td>NaN</td>\n",
              "    </tr>\n",
              "    <tr>\n",
              "      <th>3</th>\n",
              "      <td>1753</td>\n",
              "      <td>8.39</td>\n",
              "      <td>NaN</td>\n",
              "    </tr>\n",
              "    <tr>\n",
              "      <th>4</th>\n",
              "      <td>1754</td>\n",
              "      <td>8.47</td>\n",
              "      <td>NaN</td>\n",
              "    </tr>\n",
              "  </tbody>\n",
              "</table>\n",
              "</div>"
            ],
            "text/plain": [
              "   year  avg_temp  7-year moving average\n",
              "0  1750      8.72                    NaN\n",
              "1  1751      7.98                    NaN\n",
              "2  1752      5.78                    NaN\n",
              "3  1753      8.39                    NaN\n",
              "4  1754      8.47                    NaN"
            ]
          },
          "metadata": {},
          "execution_count": 9
        }
      ]
    },
    {
      "cell_type": "code",
      "metadata": {
        "colab": {
          "base_uri": "https://localhost:8080/",
          "height": 204
        },
        "id": "uwTbzWtCLqVU",
        "outputId": "59880066-186f-4370-ae47-49d63ca1f758"
      },
      "source": [
        "global_data.tail()"
      ],
      "execution_count": 10,
      "outputs": [
        {
          "output_type": "execute_result",
          "data": {
            "text/html": [
              "<div>\n",
              "<style scoped>\n",
              "    .dataframe tbody tr th:only-of-type {\n",
              "        vertical-align: middle;\n",
              "    }\n",
              "\n",
              "    .dataframe tbody tr th {\n",
              "        vertical-align: top;\n",
              "    }\n",
              "\n",
              "    .dataframe thead th {\n",
              "        text-align: right;\n",
              "    }\n",
              "</style>\n",
              "<table border=\"1\" class=\"dataframe\">\n",
              "  <thead>\n",
              "    <tr style=\"text-align: right;\">\n",
              "      <th></th>\n",
              "      <th>year</th>\n",
              "      <th>avg_temp</th>\n",
              "      <th>7-year moving average</th>\n",
              "    </tr>\n",
              "  </thead>\n",
              "  <tbody>\n",
              "    <tr>\n",
              "      <th>259</th>\n",
              "      <td>2009</td>\n",
              "      <td>9.51</td>\n",
              "      <td>9.535714</td>\n",
              "    </tr>\n",
              "    <tr>\n",
              "      <th>260</th>\n",
              "      <td>2010</td>\n",
              "      <td>9.70</td>\n",
              "      <td>9.560000</td>\n",
              "    </tr>\n",
              "    <tr>\n",
              "      <th>261</th>\n",
              "      <td>2011</td>\n",
              "      <td>9.52</td>\n",
              "      <td>9.588571</td>\n",
              "    </tr>\n",
              "    <tr>\n",
              "      <th>262</th>\n",
              "      <td>2012</td>\n",
              "      <td>9.51</td>\n",
              "      <td>9.561429</td>\n",
              "    </tr>\n",
              "    <tr>\n",
              "      <th>263</th>\n",
              "      <td>2013</td>\n",
              "      <td>9.61</td>\n",
              "      <td>9.572857</td>\n",
              "    </tr>\n",
              "  </tbody>\n",
              "</table>\n",
              "</div>"
            ],
            "text/plain": [
              "     year  avg_temp  7-year moving average\n",
              "259  2009      9.51               9.535714\n",
              "260  2010      9.70               9.560000\n",
              "261  2011      9.52               9.588571\n",
              "262  2012      9.51               9.561429\n",
              "263  2013      9.61               9.572857"
            ]
          },
          "metadata": {},
          "execution_count": 10
        }
      ]
    },
    {
      "cell_type": "code",
      "metadata": {
        "colab": {
          "base_uri": "https://localhost:8080/"
        },
        "id": "Jp6TV09nKeaY",
        "outputId": "a7249dcb-60ca-4d91-db4a-2ee4a3485013"
      },
      "source": [
        "moving_av_global.tail()"
      ],
      "execution_count": 11,
      "outputs": [
        {
          "output_type": "execute_result",
          "data": {
            "text/plain": [
              "259    9.535714\n",
              "260    9.560000\n",
              "261    9.588571\n",
              "262    9.561429\n",
              "263    9.572857\n",
              "Name: 7-year moving average, dtype: float64"
            ]
          },
          "metadata": {},
          "execution_count": 11
        }
      ]
    },
    {
      "cell_type": "code",
      "metadata": {
        "colab": {
          "base_uri": "https://localhost:8080/",
          "height": 279
        },
        "id": "ESiXm7I1G8Kx",
        "outputId": "65690e11-5e68-49fa-f54d-faf56ed408f3"
      },
      "source": [
        "plt.plot(years,moving_av_global,color='r',label='Global Moving Average')\n",
        "plt.plot(years,moving_av_london,color='b',label='London Moving Average')\n",
        "\n",
        "plt.ylabel('Moving Average Temperature')\n",
        "plt.xlabel('Year')\n",
        "\n",
        "plt.legend()\n",
        "plt.show()"
      ],
      "execution_count": 12,
      "outputs": [
        {
          "output_type": "display_data",
          "data": {
            "image/png": "[encoded data removed]",
            "text/plain": [
              "<Figure size 432x288 with 1 Axes>"
            ]
          },
          "metadata": {
            "needs_background": "light"
          }
        }
      ]
    },
    {
      "cell_type": "markdown",
      "metadata": {
        "id": "pxP_C02DMdiB"
      },
      "source": [
        "Graphing the Changes in Temperature"
      ]
    },
    {
      "cell_type": "code",
      "metadata": {
        "id": "pcQQHHJINIQO"
      },
      "source": [
        "#Finding the changes in temperature each year\n",
        "london_temp_change = np.diff(moving_av_london)\n",
        "global_temp_change = np.diff(moving_av_global)\n",
        "#Getting rid of the first recorded year because no change can be observed\n",
        "years = years[1:]"
      ],
      "execution_count": 13,
      "outputs": []
    },
    {
      "cell_type": "code",
      "metadata": {
        "colab": {
          "base_uri": "https://localhost:8080/",
          "height": 281
        },
        "id": "EtqGEAZkNWLl",
        "outputId": "e8f7dd9e-8a5e-40b9-8795-ca3451a7eb43"
      },
      "source": [
        "plt.plot(years,london_temp_change,label='London Changes in Temperature',color='r')\n",
        "plt.plot(years,global_temp_change,label='Global Changes in Temperature',color='y')\n",
        "plt.title('Change in Temperature vs. Year')\n",
        "plt.legend()\n",
        "plt.show()"
      ],
      "execution_count": 14,
      "outputs": [
        {
          "output_type": "display_data",
          "data": {
            "image/png": "[encoded data removed]",
            "text/plain": [
              "<Figure size 432x288 with 1 Axes>"
            ]
          },
          "metadata": {
            "needs_background": "light"
          }
        }
      ]
    },
    {
      "cell_type": "markdown",
      "metadata": {
        "id": "emJ7nXs3Mhfq"
      },
      "source": [
        "Graphing the differences in temperature between London and the globe for a given year"
      ]
    },
    {
      "cell_type": "code",
      "metadata": {
        "id": "HAt6_8JBXnpg"
      },
      "source": [
        "moving_av_global_array = moving_av_global.to_numpy()"
      ],
      "execution_count": 15,
      "outputs": []
    },
    {
      "cell_type": "code",
      "metadata": {
        "id": "7E2rQsdwXvrS"
      },
      "source": [
        "moving_av_london_array = moving_av_london.to_numpy()"
      ],
      "execution_count": 16,
      "outputs": []
    },
    {
      "cell_type": "code",
      "metadata": {
        "id": "3vSbROq2W8Zq"
      },
      "source": [
        "difference = np.subtract(moving_av_global_array,moving_av_london_array)"
      ],
      "execution_count": 17,
      "outputs": []
    },
    {
      "cell_type": "code",
      "metadata": {
        "id": "jRMRmoT4X-7l"
      },
      "source": [
        "years_array = years.to_numpy()"
      ],
      "execution_count": 18,
      "outputs": []
    },
    {
      "cell_type": "code",
      "metadata": {
        "id": "ZgnJHCVsYVNd"
      },
      "source": [
        "year_1750 = np.append(1750,years_array)"
      ],
      "execution_count": 19,
      "outputs": []
    },
    {
      "cell_type": "code",
      "metadata": {
        "colab": {
          "base_uri": "https://localhost:8080/"
        },
        "id": "OHFZCma6Y2n-",
        "outputId": "a44e3525-18b6-4c2a-8b3f-295ec3a0c398"
      },
      "source": [
        "print(year_1750)"
      ],
      "execution_count": 20,
      "outputs": [
        {
          "output_type": "stream",
          "name": "stdout",
          "text": [
            "[1750 1751 1752 1753 1754 1755 1756 1757 1758 1759 1760 1761 1762 1763\n",
            " 1764 1765 1766 1767 1768 1769 1770 1771 1772 1773 1774 1775 1776 1777\n",
            " 1778 1779 1780 1781 1782 1783 1784 1785 1786 1787 1788 1789 1790 1791\n",
            " 1792 1793 1794 1795 1796 1797 1798 1799 1800 1801 1802 1803 1804 1805\n",
            " 1806 1807 1808 1809 1810 1811 1812 1813 1814 1815 1816 1817 1818 1819\n",
            " 1820 1821 1822 1823 1824 1825 1826 1827 1828 1829 1830 1831 1832 1833\n",
            " 1834 1835 1836 1837 1838 1839 1840 1841 1842 1843 1844 1845 1846 1847\n",
            " 1848 1849 1850 1851 1852 1853 1854 1855 1856 1857 1858 1859 1860 1861\n",
            " 1862 1863 1864 1865 1866 1867 1868 1869 1870 1871 1872 1873 1874 1875\n",
            " 1876 1877 1878 1879 1880 1881 1882 1883 1884 1885 1886 1887 1888 1889\n",
            " 1890 1891 1892 1893 1894 1895 1896 1897 1898 1899 1900 1901 1902 1903\n",
            " 1904 1905 1906 1907 1908 1909 1910 1911 1912 1913 1914 1915 1916 1917\n",
            " 1918 1919 1920 1921 1922 1923 1924 1925 1926 1927 1928 1929 1930 1931\n",
            " 1932 1933 1934 1935 1936 1937 1938 1939 1940 1941 1942 1943 1944 1945\n",
            " 1946 1947 1948 1949 1950 1951 1952 1953 1954 1955 1956 1957 1958 1959\n",
            " 1960 1961 1962 1963 1964 1965 1966 1967 1968 1969 1970 1971 1972 1973\n",
            " 1974 1975 1976 1977 1978 1979 1980 1981 1982 1983 1984 1985 1986 1987\n",
            " 1988 1989 1990 1991 1992 1993 1994 1995 1996 1997 1998 1999 2000 2001\n",
            " 2002 2003 2004 2005 2006 2007 2008 2009 2010 2011 2012 2013]\n"
          ]
        }
      ]
    },
    {
      "cell_type": "code",
      "metadata": {
        "colab": {
          "base_uri": "https://localhost:8080/",
          "height": 307
        },
        "id": "hr8Y_6UJWJ2M",
        "outputId": "af4a0617-e858-499e-f740-2f7a013338c8"
      },
      "source": [
        "plt.plot(year_1750,difference,color='g')\n",
        "plt.title('Plotting the difference in temperature with time')\n",
        "plt.xlabel('Year')\n",
        "plt.ylabel('Difference in Temperature between Global and London')\n",
        "plt.show()"
      ],
      "execution_count": 21,
      "outputs": [
        {
          "output_type": "display_data",
          "data": {
            "image/png": "[encoded data removed]",
            "text/plain": [
              "<Figure size 432x288 with 1 Axes>"
            ]
          },
          "metadata": {
            "needs_background": "light"
          }
        }
      ]
    },
    {
      "cell_type": "markdown",
      "metadata": {
        "id": "dDnCtci4QL_F"
      },
      "source": [
        "See extra challenges in the criteria to make this project stand out!"
      ]
    },
    {
      "cell_type": "code",
      "metadata": {
        "colab": {
          "base_uri": "https://localhost:8080/",
          "height": 295
        },
        "id": "Ctw7y_TeZU1J",
        "outputId": "d7f022ec-32b2-4b2c-fa51-705538db423e"
      },
      "source": [
        "# See if the temperatures follow a linear relationship:\n",
        "\n",
        "plt.scatter(moving_av_global,moving_av_london, color='b')\n",
        "plt.title('London Temp vs. Global Temp')\n",
        "plt.ylabel('London Temp')\n",
        "plt.xlabel('Global Temp')\n",
        "plt.show()"
      ],
      "execution_count": 22,
      "outputs": [
        {
          "output_type": "display_data",
          "data": {
            "image/png": "[encoded data removed]",
            "text/plain": [
              "<Figure size 432x288 with 1 Axes>"
            ]
          },
          "metadata": {
            "needs_background": "light"
          }
        }
      ]
    },
    {
      "cell_type": "markdown",
      "metadata": {
        "id": "2NwoAq1MZvhf"
      },
      "source": [
        "Now use the data to fit a straight line and make some predictions. Use LinearRegression and calculate the coefficient of correlation"
      ]
    },
    {
      "cell_type": "code",
      "metadata": {
        "colab": {
          "base_uri": "https://localhost:8080/"
        },
        "id": "m7uNe1JIUL6Z",
        "outputId": "f17f2eb6-53ed-4519-dd47-176111435821"
      },
      "source": [
        "#Checking for nans\n",
        "np.any(np.isnan(moving_av_global))"
      ],
      "execution_count": 25,
      "outputs": [
        {
          "output_type": "execute_result",
          "data": {
            "text/plain": [
              "True"
            ]
          },
          "metadata": {},
          "execution_count": 25
        }
      ]
    },
    {
      "cell_type": "code",
      "metadata": {
        "id": "2RWn-7fNUsc5"
      },
      "source": [
        "from sklearn.impute import SimpleImputer\n",
        "imputer = SimpleImputer(missing_values=np.nan,strategy='mean')\n",
        "moving_av_global_array = imputer.fit_transform(moving_av_global_array.reshape(-1,1))"
      ],
      "execution_count": 29,
      "outputs": []
    },
    {
      "cell_type": "code",
      "metadata": {
        "colab": {
          "base_uri": "https://localhost:8080/"
        },
        "id": "LO16Fh2xVBrn",
        "outputId": "a6f611ee-7bc0-473e-93e9-8f3b979d1794"
      },
      "source": [
        "np.any(np.isnan(moving_av_global_array))"
      ],
      "execution_count": 30,
      "outputs": [
        {
          "output_type": "execute_result",
          "data": {
            "text/plain": [
              "False"
            ]
          },
          "metadata": {},
          "execution_count": 30
        }
      ]
    },
    {
      "cell_type": "code",
      "metadata": {
        "colab": {
          "base_uri": "https://localhost:8080/"
        },
        "id": "PhrSOB2tUew8",
        "outputId": "e5b740be-e3c4-4d93-f8b4-5da12e5cd3cf"
      },
      "source": [
        "np.any(np.isnan(moving_av_london_array))"
      ],
      "execution_count": 31,
      "outputs": [
        {
          "output_type": "execute_result",
          "data": {
            "text/plain": [
              "False"
            ]
          },
          "metadata": {},
          "execution_count": 31
        }
      ]
    },
    {
      "cell_type": "code",
      "metadata": {
        "colab": {
          "base_uri": "https://localhost:8080/"
        },
        "id": "hgHKCoZ_Vp7D",
        "outputId": "c884bc85-606b-4064-d88e-8fa666b25a35"
      },
      "source": [
        "moving_av_global_array.flatten().shape"
      ],
      "execution_count": 36,
      "outputs": [
        {
          "output_type": "execute_result",
          "data": {
            "text/plain": [
              "(264,)"
            ]
          },
          "metadata": {},
          "execution_count": 36
        }
      ]
    },
    {
      "cell_type": "code",
      "metadata": {
        "colab": {
          "base_uri": "https://localhost:8080/"
        },
        "id": "PvASXr4ZVsrM",
        "outputId": "28b92fbe-6132-4746-becb-1a1db537ed55"
      },
      "source": [
        "moving_av_london_array.shape"
      ],
      "execution_count": 35,
      "outputs": [
        {
          "output_type": "execute_result",
          "data": {
            "text/plain": [
              "(264,)"
            ]
          },
          "metadata": {},
          "execution_count": 35
        }
      ]
    },
    {
      "cell_type": "code",
      "metadata": {
        "colab": {
          "base_uri": "https://localhost:8080/"
        },
        "id": "AQWIsAEFVU0k",
        "outputId": "2b6cb9b5-de9a-41d8-ad35-3d79a39539b5"
      },
      "source": [
        "correlation_coefficient = np.corrcoef(moving_av_global_array.flatten(),moving_av_london_array)\n",
        "print(\"The correlation coefficient is:\",correlation_coefficient[0][1])"
      ],
      "execution_count": 39,
      "outputs": [
        {
          "output_type": "stream",
          "name": "stdout",
          "text": [
            "The correlation coefficient is: 0.80396419756552\n"
          ]
        }
      ]
    },
    {
      "cell_type": "markdown",
      "metadata": {
        "id": "3wvt_W1AWNo-"
      },
      "source": [
        "Create a prediction of the local temperature given the global temperature:"
      ]
    },
    {
      "cell_type": "code",
      "metadata": {
        "colab": {
          "base_uri": "https://localhost:8080/"
        },
        "id": "5KYc3GrmWIiJ",
        "outputId": "fefbc971-2dfd-435b-818c-2fd98e77ab22"
      },
      "source": [
        "X = moving_av_london_array.reshape(-1,1)\n",
        "y = moving_av_global_array.reshape(-1,1)\n",
        "from sklearn.linear_model import LinearRegression\n",
        "linreg = LinearRegression()\n",
        "linreg.fit(X,y)"
      ],
      "execution_count": 42,
      "outputs": [
        {
          "output_type": "execute_result",
          "data": {
            "text/plain": [
              "LinearRegression(copy_X=True, fit_intercept=True, n_jobs=None, normalize=False)"
            ]
          },
          "metadata": {},
          "execution_count": 42
        }
      ]
    },
    {
      "cell_type": "code",
      "metadata": {
        "id": "zFKnqCN9W3wW"
      },
      "source": [
        "y_pred = linreg.predict(X)"
      ],
      "execution_count": 43,
      "outputs": []
    },
    {
      "cell_type": "code",
      "metadata": {
        "colab": {
          "base_uri": "https://localhost:8080/",
          "height": 295
        },
        "id": "PPiLd2JoW7ES",
        "outputId": "d3971bd1-7706-4de0-b96d-cc333349ec32"
      },
      "source": [
        "plt.scatter(y_pred,y)\n",
        "plt.xlabel('Predicted Global Temperature')\n",
        "plt.ylabel('Actual Global Temperature')\n",
        "plt.title('Actual Global Temperatures vs. Predicted Global Temperatures')\n",
        "plt.show()"
      ],
      "execution_count": 51,
      "outputs": [
        {
          "output_type": "display_data",
          "data": {
            "image/png": "[encoded data removed]",
            "text/plain": [
              "<Figure size 432x288 with 1 Axes>"
            ]
          },
          "metadata": {
            "needs_background": "light"
          }
        }
      ]
    },
    {
      "cell_type": "code",
      "metadata": {
        "colab": {
          "base_uri": "https://localhost:8080/"
        },
        "id": "x9O5el4iXOKl",
        "outputId": "75afbfce-ebfe-4c28-f743-86296eba165b"
      },
      "source": [
        "#Evaluate these predictions\n",
        "from sklearn.metrics import mean_squared_error\n",
        "mse = mean_squared_error(y,y_pred)\n",
        "rmse = mse**0.5\n",
        "print(rmse)"
      ],
      "execution_count": 52,
      "outputs": [
        {
          "output_type": "stream",
          "name": "stdout",
          "text": [
            "0.2711414504182766\n"
          ]
        }
      ]
    },
    {
      "cell_type": "code",
      "metadata": {
        "colab": {
          "base_uri": "https://localhost:8080/"
        },
        "id": "-9ZT-rwEX9ob",
        "outputId": "b8f0d4eb-ae5c-4fc9-f580-3c9973ffd27d"
      },
      "source": [
        "#Make some predictions\n",
        "linreg.predict([[10.0]])"
      ],
      "execution_count": 53,
      "outputs": [
        {
          "output_type": "execute_result",
          "data": {
            "text/plain": [
              "array([[8.84828611]])"
            ]
          },
          "metadata": {},
          "execution_count": 53
        }
      ]
    }
  ]
}