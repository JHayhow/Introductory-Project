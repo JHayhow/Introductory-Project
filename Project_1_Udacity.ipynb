{
  "nbformat": 4,
  "nbformat_minor": 0,
  "metadata": {
    "colab": {
      "name": "Project 1 Udacity",
      "provenance": [],
      "authorship_tag": "ABX9TyM1W5o7CnRvL0nHbflZ8KIJ",
      "include_colab_link": true
    },
    "kernelspec": {
      "name": "python3",
      "display_name": "Python 3"
    },
    "language_info": {
      "name": "python"
    }
  },
  "cells": [
    {
      "cell_type": "markdown",
      "metadata": {
        "id": "view-in-github",
        "colab_type": "text"
      },
      "source": [
        "<a href=\"https://colab.research.google.com/github/JHayhow/Project-1-Global-and-Local-Temperatures/blob/main/Project_1_Udacity.ipynb\" target=\"_parent\"><img src=\"https://colab.research.google.com/assets/colab-badge.svg\" alt=\"Open In Colab\"/></a>"
      ]
    },
    {
      "cell_type": "markdown",
      "metadata": {
        "id": "g2lTWO9-FYbi"
      },
      "source": [
        "Relevant SQL Code for pulling the data:\n",
        "\n",
        "Select * from global_data;\n",
        "\n",
        "Select * from city_list\n",
        "where country='United Kingdom';\n",
        "\n",
        "Select * from city_data\n",
        "where country='United Kingdom' and city='London';"
      ]
    },
    {
      "cell_type": "markdown",
      "metadata": {
        "id": "1mGMvgdEPLpG"
      },
      "source": [
        "Importing the Temperature Data"
      ]
    },
    {
      "cell_type": "code",
      "metadata": {
        "id": "02-jhRlcFbvN"
      },
      "source": [
        "import pandas as pd\n",
        "import numpy as np\n",
        "import matplotlib.pyplot as plt"
      ],
      "execution_count": 1,
      "outputs": []
    },
    {
      "cell_type": "code",
      "metadata": {
        "id": "xN4UFtr2Ffvi"
      },
      "source": [
        "London_Temperatures = pd.read_csv('London Temp Data.csv')\n",
        "y = London_Temperatures.iloc[:,-1].values"
      ],
      "execution_count": 2,
      "outputs": []
    },
    {
      "cell_type": "code",
      "metadata": {
        "colab": {
          "base_uri": "https://localhost:8080/",
          "height": 204
        },
        "id": "OQ_bCM_7Gd5u",
        "outputId": "8913d3d7-2128-4337-f3be-367c258ae45e"
      },
      "source": [
        "London_Temperatures.head()"
      ],
      "execution_count": 3,
      "outputs": [
        {
          "output_type": "execute_result",
          "data": {
            "text/html": [
              "<div>\n",
              "<style scoped>\n",
              "    .dataframe tbody tr th:only-of-type {\n",
              "        vertical-align: middle;\n",
              "    }\n",
              "\n",
              "    .dataframe tbody tr th {\n",
              "        vertical-align: top;\n",
              "    }\n",
              "\n",
              "    .dataframe thead th {\n",
              "        text-align: right;\n",
              "    }\n",
              "</style>\n",
              "<table border=\"1\" class=\"dataframe\">\n",
              "  <thead>\n",
              "    <tr style=\"text-align: right;\">\n",
              "      <th></th>\n",
              "      <th>year</th>\n",
              "      <th>city</th>\n",
              "      <th>country</th>\n",
              "      <th>avg_temp</th>\n",
              "      <th>12-year moving average</th>\n",
              "    </tr>\n",
              "  </thead>\n",
              "  <tbody>\n",
              "    <tr>\n",
              "      <th>0</th>\n",
              "      <td>1743</td>\n",
              "      <td>London</td>\n",
              "      <td>United Kingdom</td>\n",
              "      <td>7.54</td>\n",
              "      <td>NaN</td>\n",
              "    </tr>\n",
              "    <tr>\n",
              "      <th>1</th>\n",
              "      <td>1744</td>\n",
              "      <td>London</td>\n",
              "      <td>United Kingdom</td>\n",
              "      <td>10.34</td>\n",
              "      <td>NaN</td>\n",
              "    </tr>\n",
              "    <tr>\n",
              "      <th>2</th>\n",
              "      <td>1745</td>\n",
              "      <td>London</td>\n",
              "      <td>United Kingdom</td>\n",
              "      <td>4.13</td>\n",
              "      <td>NaN</td>\n",
              "    </tr>\n",
              "    <tr>\n",
              "      <th>3</th>\n",
              "      <td>1746</td>\n",
              "      <td>London</td>\n",
              "      <td>United Kingdom</td>\n",
              "      <td>NaN</td>\n",
              "      <td>NaN</td>\n",
              "    </tr>\n",
              "    <tr>\n",
              "      <th>4</th>\n",
              "      <td>1747</td>\n",
              "      <td>London</td>\n",
              "      <td>United Kingdom</td>\n",
              "      <td>NaN</td>\n",
              "      <td>NaN</td>\n",
              "    </tr>\n",
              "  </tbody>\n",
              "</table>\n",
              "</div>"
            ],
            "text/plain": [
              "   year    city         country  avg_temp  12-year moving average\n",
              "0  1743  London  United Kingdom      7.54                     NaN\n",
              "1  1744  London  United Kingdom     10.34                     NaN\n",
              "2  1745  London  United Kingdom      4.13                     NaN\n",
              "3  1746  London  United Kingdom       NaN                     NaN\n",
              "4  1747  London  United Kingdom       NaN                     NaN"
            ]
          },
          "metadata": {},
          "execution_count": 3
        }
      ]
    },
    {
      "cell_type": "code",
      "metadata": {
        "colab": {
          "base_uri": "https://localhost:8080/",
          "height": 204
        },
        "id": "tgWGUEXvLwam",
        "outputId": "977fadbf-679e-46cb-b3ec-5a3d18eacfaa"
      },
      "source": [
        "London_Temperatures.tail()"
      ],
      "execution_count": 4,
      "outputs": [
        {
          "output_type": "execute_result",
          "data": {
            "text/html": [
              "<div>\n",
              "<style scoped>\n",
              "    .dataframe tbody tr th:only-of-type {\n",
              "        vertical-align: middle;\n",
              "    }\n",
              "\n",
              "    .dataframe tbody tr th {\n",
              "        vertical-align: top;\n",
              "    }\n",
              "\n",
              "    .dataframe thead th {\n",
              "        text-align: right;\n",
              "    }\n",
              "</style>\n",
              "<table border=\"1\" class=\"dataframe\">\n",
              "  <thead>\n",
              "    <tr style=\"text-align: right;\">\n",
              "      <th></th>\n",
              "      <th>year</th>\n",
              "      <th>city</th>\n",
              "      <th>country</th>\n",
              "      <th>avg_temp</th>\n",
              "      <th>12-year moving average</th>\n",
              "    </tr>\n",
              "  </thead>\n",
              "  <tbody>\n",
              "    <tr>\n",
              "      <th>266</th>\n",
              "      <td>2009</td>\n",
              "      <td>London</td>\n",
              "      <td>United Kingdom</td>\n",
              "      <td>10.52</td>\n",
              "      <td>10.659167</td>\n",
              "    </tr>\n",
              "    <tr>\n",
              "      <th>267</th>\n",
              "      <td>2010</td>\n",
              "      <td>London</td>\n",
              "      <td>United Kingdom</td>\n",
              "      <td>9.38</td>\n",
              "      <td>10.574167</td>\n",
              "    </tr>\n",
              "    <tr>\n",
              "      <th>268</th>\n",
              "      <td>2011</td>\n",
              "      <td>London</td>\n",
              "      <td>United Kingdom</td>\n",
              "      <td>11.19</td>\n",
              "      <td>10.601667</td>\n",
              "    </tr>\n",
              "    <tr>\n",
              "      <th>269</th>\n",
              "      <td>2012</td>\n",
              "      <td>London</td>\n",
              "      <td>United Kingdom</td>\n",
              "      <td>10.00</td>\n",
              "      <td>10.558333</td>\n",
              "    </tr>\n",
              "    <tr>\n",
              "      <th>270</th>\n",
              "      <td>2013</td>\n",
              "      <td>London</td>\n",
              "      <td>United Kingdom</td>\n",
              "      <td>9.91</td>\n",
              "      <td>10.535833</td>\n",
              "    </tr>\n",
              "  </tbody>\n",
              "</table>\n",
              "</div>"
            ],
            "text/plain": [
              "     year    city         country  avg_temp  12-year moving average\n",
              "266  2009  London  United Kingdom     10.52               10.659167\n",
              "267  2010  London  United Kingdom      9.38               10.574167\n",
              "268  2011  London  United Kingdom     11.19               10.601667\n",
              "269  2012  London  United Kingdom     10.00               10.558333\n",
              "270  2013  London  United Kingdom      9.91               10.535833"
            ]
          },
          "metadata": {},
          "execution_count": 4
        }
      ]
    },
    {
      "cell_type": "code",
      "metadata": {
        "id": "UwYooAmTHRl7"
      },
      "source": [
        "moving_av_london = London_Temperatures['12-year moving average']\n",
        "year = London_Temperatures['year']"
      ],
      "execution_count": 5,
      "outputs": []
    },
    {
      "cell_type": "code",
      "metadata": {
        "id": "a0t7zMkjJjvy"
      },
      "source": [
        "moving_av_london = moving_av_london.iloc[12:]"
      ],
      "execution_count": 6,
      "outputs": []
    },
    {
      "cell_type": "code",
      "metadata": {
        "colab": {
          "base_uri": "https://localhost:8080/"
        },
        "id": "YFBIqqIgJtOJ",
        "outputId": "3f48f913-d051-4314-ba29-e43736d41bca"
      },
      "source": [
        "moving_av_london.head()"
      ],
      "execution_count": 7,
      "outputs": [
        {
          "output_type": "execute_result",
          "data": {
            "text/plain": [
              "12    8.602500\n",
              "13    8.487500\n",
              "14    9.138750\n",
              "15    9.106667\n",
              "16    9.176000\n",
              "Name: 12-year moving average, dtype: float64"
            ]
          },
          "metadata": {},
          "execution_count": 7
        }
      ]
    },
    {
      "cell_type": "code",
      "metadata": {
        "id": "gVIcVeVrGn9-"
      },
      "source": [
        "global_data = pd.read_csv('global_data.csv')\n",
        "#Cutting off last two rows of Global Data so that the years match\n",
        "global_data=global_data[:-2]\n",
        "moving_av_global = global_data['12-year moving average']\n",
        "years = global_data['year']"
      ],
      "execution_count": 8,
      "outputs": []
    },
    {
      "cell_type": "code",
      "metadata": {
        "colab": {
          "base_uri": "https://localhost:8080/",
          "height": 204
        },
        "id": "WlHAQsYXHHSm",
        "outputId": "ca10c826-1537-43be-8c3e-20f9066bd86b"
      },
      "source": [
        "global_data.head()"
      ],
      "execution_count": 9,
      "outputs": [
        {
          "output_type": "execute_result",
          "data": {
            "text/html": [
              "<div>\n",
              "<style scoped>\n",
              "    .dataframe tbody tr th:only-of-type {\n",
              "        vertical-align: middle;\n",
              "    }\n",
              "\n",
              "    .dataframe tbody tr th {\n",
              "        vertical-align: top;\n",
              "    }\n",
              "\n",
              "    .dataframe thead th {\n",
              "        text-align: right;\n",
              "    }\n",
              "</style>\n",
              "<table border=\"1\" class=\"dataframe\">\n",
              "  <thead>\n",
              "    <tr style=\"text-align: right;\">\n",
              "      <th></th>\n",
              "      <th>year</th>\n",
              "      <th>avg_temp</th>\n",
              "      <th>12-year moving average</th>\n",
              "    </tr>\n",
              "  </thead>\n",
              "  <tbody>\n",
              "    <tr>\n",
              "      <th>0</th>\n",
              "      <td>1750</td>\n",
              "      <td>8.72</td>\n",
              "      <td>NaN</td>\n",
              "    </tr>\n",
              "    <tr>\n",
              "      <th>1</th>\n",
              "      <td>1751</td>\n",
              "      <td>7.98</td>\n",
              "      <td>NaN</td>\n",
              "    </tr>\n",
              "    <tr>\n",
              "      <th>2</th>\n",
              "      <td>1752</td>\n",
              "      <td>5.78</td>\n",
              "      <td>NaN</td>\n",
              "    </tr>\n",
              "    <tr>\n",
              "      <th>3</th>\n",
              "      <td>1753</td>\n",
              "      <td>8.39</td>\n",
              "      <td>NaN</td>\n",
              "    </tr>\n",
              "    <tr>\n",
              "      <th>4</th>\n",
              "      <td>1754</td>\n",
              "      <td>8.47</td>\n",
              "      <td>NaN</td>\n",
              "    </tr>\n",
              "  </tbody>\n",
              "</table>\n",
              "</div>"
            ],
            "text/plain": [
              "   year  avg_temp  12-year moving average\n",
              "0  1750      8.72                     NaN\n",
              "1  1751      7.98                     NaN\n",
              "2  1752      5.78                     NaN\n",
              "3  1753      8.39                     NaN\n",
              "4  1754      8.47                     NaN"
            ]
          },
          "metadata": {},
          "execution_count": 9
        }
      ]
    },
    {
      "cell_type": "code",
      "metadata": {
        "colab": {
          "base_uri": "https://localhost:8080/",
          "height": 204
        },
        "id": "uwTbzWtCLqVU",
        "outputId": "f87ff3a5-bd61-4f2c-8d1c-007a344d791d"
      },
      "source": [
        "global_data.tail()"
      ],
      "execution_count": 10,
      "outputs": [
        {
          "output_type": "execute_result",
          "data": {
            "text/html": [
              "<div>\n",
              "<style scoped>\n",
              "    .dataframe tbody tr th:only-of-type {\n",
              "        vertical-align: middle;\n",
              "    }\n",
              "\n",
              "    .dataframe tbody tr th {\n",
              "        vertical-align: top;\n",
              "    }\n",
              "\n",
              "    .dataframe thead th {\n",
              "        text-align: right;\n",
              "    }\n",
              "</style>\n",
              "<table border=\"1\" class=\"dataframe\">\n",
              "  <thead>\n",
              "    <tr style=\"text-align: right;\">\n",
              "      <th></th>\n",
              "      <th>year</th>\n",
              "      <th>avg_temp</th>\n",
              "      <th>12-year moving average</th>\n",
              "    </tr>\n",
              "  </thead>\n",
              "  <tbody>\n",
              "    <tr>\n",
              "      <th>259</th>\n",
              "      <td>2009</td>\n",
              "      <td>9.51</td>\n",
              "      <td>9.478333</td>\n",
              "    </tr>\n",
              "    <tr>\n",
              "      <th>260</th>\n",
              "      <td>2010</td>\n",
              "      <td>9.70</td>\n",
              "      <td>9.493333</td>\n",
              "    </tr>\n",
              "    <tr>\n",
              "      <th>261</th>\n",
              "      <td>2011</td>\n",
              "      <td>9.52</td>\n",
              "      <td>9.512500</td>\n",
              "    </tr>\n",
              "    <tr>\n",
              "      <th>262</th>\n",
              "      <td>2012</td>\n",
              "      <td>9.51</td>\n",
              "      <td>9.538333</td>\n",
              "    </tr>\n",
              "    <tr>\n",
              "      <th>263</th>\n",
              "      <td>2013</td>\n",
              "      <td>9.61</td>\n",
              "      <td>9.555000</td>\n",
              "    </tr>\n",
              "  </tbody>\n",
              "</table>\n",
              "</div>"
            ],
            "text/plain": [
              "     year  avg_temp  12-year moving average\n",
              "259  2009      9.51                9.478333\n",
              "260  2010      9.70                9.493333\n",
              "261  2011      9.52                9.512500\n",
              "262  2012      9.51                9.538333\n",
              "263  2013      9.61                9.555000"
            ]
          },
          "metadata": {},
          "execution_count": 10
        }
      ]
    },
    {
      "cell_type": "code",
      "metadata": {
        "colab": {
          "base_uri": "https://localhost:8080/"
        },
        "id": "Jp6TV09nKeaY",
        "outputId": "8fc57ad6-c9f2-4e5b-acf9-ca82b952fb6b"
      },
      "source": [
        "moving_av_global.tail()"
      ],
      "execution_count": 11,
      "outputs": [
        {
          "output_type": "execute_result",
          "data": {
            "text/plain": [
              "259    9.478333\n",
              "260    9.493333\n",
              "261    9.512500\n",
              "262    9.538333\n",
              "263    9.555000\n",
              "Name: 12-year moving average, dtype: float64"
            ]
          },
          "metadata": {},
          "execution_count": 11
        }
      ]
    },
    {
      "cell_type": "code",
      "metadata": {
        "colab": {
          "base_uri": "https://localhost:8080/"
        },
        "id": "6Flfd-Q7tSBT",
        "outputId": "16c66c9b-dd63-4b29-f5e1-05e1cb51d1fd"
      },
      "source": [
        "moving_av_global.head()"
      ],
      "execution_count": 12,
      "outputs": [
        {
          "output_type": "execute_result",
          "data": {
            "text/plain": [
              "0   NaN\n",
              "1   NaN\n",
              "2   NaN\n",
              "3   NaN\n",
              "4   NaN\n",
              "Name: 12-year moving average, dtype: float64"
            ]
          },
          "metadata": {},
          "execution_count": 12
        }
      ]
    },
    {
      "cell_type": "code",
      "metadata": {
        "id": "tfF3YN4VtYV1"
      },
      "source": [
        "moving_av_global = moving_av_global.iloc[12:]"
      ],
      "execution_count": 13,
      "outputs": []
    },
    {
      "cell_type": "code",
      "metadata": {
        "colab": {
          "base_uri": "https://localhost:8080/"
        },
        "id": "cP7_hGo8tcvL",
        "outputId": "0dac678e-8dc9-401a-cdf5-d73e475fbffd"
      },
      "source": [
        "moving_av_global.head()"
      ],
      "execution_count": 14,
      "outputs": [
        {
          "output_type": "execute_result",
          "data": {
            "text/plain": [
              "12    8.012500\n",
              "13    7.972500\n",
              "14    8.190833\n",
              "15    8.179167\n",
              "16    8.174167\n",
              "Name: 12-year moving average, dtype: float64"
            ]
          },
          "metadata": {},
          "execution_count": 14
        }
      ]
    },
    {
      "cell_type": "code",
      "metadata": {
        "id": "XyJcBEoJtslL"
      },
      "source": [
        "years = years.iloc[12:]"
      ],
      "execution_count": 15,
      "outputs": []
    },
    {
      "cell_type": "code",
      "metadata": {
        "colab": {
          "base_uri": "https://localhost:8080/"
        },
        "id": "D_D7HmyJt402",
        "outputId": "155daa39-c380-4d5d-c2c5-ea65aaeb9992"
      },
      "source": [
        "moving_av_global.shape"
      ],
      "execution_count": 16,
      "outputs": [
        {
          "output_type": "execute_result",
          "data": {
            "text/plain": [
              "(252,)"
            ]
          },
          "metadata": {},
          "execution_count": 16
        }
      ]
    },
    {
      "cell_type": "code",
      "metadata": {
        "colab": {
          "base_uri": "https://localhost:8080/"
        },
        "id": "kRYSAqAlt7WI",
        "outputId": "2116523d-3bc9-4016-ff69-f89860c54459"
      },
      "source": [
        "years.shape"
      ],
      "execution_count": 17,
      "outputs": [
        {
          "output_type": "execute_result",
          "data": {
            "text/plain": [
              "(252,)"
            ]
          },
          "metadata": {},
          "execution_count": 17
        }
      ]
    },
    {
      "cell_type": "code",
      "metadata": {
        "colab": {
          "base_uri": "https://localhost:8080/"
        },
        "id": "vSKd4FQRt9w0",
        "outputId": "1bf94a36-7077-4166-9d56-28b2aa32b4ae"
      },
      "source": [
        "moving_av_london.shape"
      ],
      "execution_count": 18,
      "outputs": [
        {
          "output_type": "execute_result",
          "data": {
            "text/plain": [
              "(259,)"
            ]
          },
          "metadata": {},
          "execution_count": 18
        }
      ]
    },
    {
      "cell_type": "code",
      "metadata": {
        "colab": {
          "base_uri": "https://localhost:8080/"
        },
        "id": "0wRyrwfiuhEC",
        "outputId": "ea26a58d-8106-4a94-9f90-42bdc98f9f64"
      },
      "source": [
        "# As the london moving averages begin 7 years before the global moving averages\n",
        "# we need to cut the first seven rows\n",
        "moving_av_london = moving_av_london.iloc[7:]\n",
        "moving_av_london.shape"
      ],
      "execution_count": 19,
      "outputs": [
        {
          "output_type": "execute_result",
          "data": {
            "text/plain": [
              "(252,)"
            ]
          },
          "metadata": {},
          "execution_count": 19
        }
      ]
    },
    {
      "cell_type": "code",
      "metadata": {
        "colab": {
          "base_uri": "https://localhost:8080/",
          "height": 295
        },
        "id": "ESiXm7I1G8Kx",
        "outputId": "f7c591ba-b75f-4df8-f239-82d2b69027cc"
      },
      "source": [
        "plt.plot(years,moving_av_global,color='r',label='Global')\n",
        "plt.plot(years,moving_av_london,color='b',label='London')\n",
        "plt.title('Moving Average Temperature vs. Year')\n",
        "plt.ylabel('Moving Average Temperature in degrees Celsius')\n",
        "plt.xlabel('Year')\n",
        "\n",
        "plt.legend()\n",
        "plt.show()"
      ],
      "execution_count": 20,
      "outputs": [
        {
          "output_type": "display_data",
          "data": {
            "image/png": "[encoded data removed]",
            "text/plain": [
              "<Figure size 432x288 with 1 Axes>"
            ]
          },
          "metadata": {
            "needs_background": "light"
          }
        }
      ]
    },
    {
      "cell_type": "markdown",
      "metadata": {
        "id": "xfVIE_LTvbky"
      },
      "source": [
        "Calculating the maximum, minimum, mean, variance and standard deviations of the moving average temperatures:"
      ]
    },
    {
      "cell_type": "code",
      "metadata": {
        "colab": {
          "base_uri": "https://localhost:8080/"
        },
        "id": "Em94MDYFviH9",
        "outputId": "0a1ab482-4893-4a4e-f273-a7be537245ea"
      },
      "source": [
        "london_std = np.std(moving_av_london)\n",
        "print(london_std)"
      ],
      "execution_count": 21,
      "outputs": [
        {
          "output_type": "stream",
          "name": "stdout",
          "text": [
            "0.35319704951023656\n"
          ]
        }
      ]
    },
    {
      "cell_type": "code",
      "metadata": {
        "colab": {
          "base_uri": "https://localhost:8080/"
        },
        "id": "5MMAND_gvwdk",
        "outputId": "90076505-fdde-4080-cd73-c6e78814741d"
      },
      "source": [
        "global_std = np.std(moving_av_global)\n",
        "print(global_std)"
      ],
      "execution_count": 22,
      "outputs": [
        {
          "output_type": "stream",
          "name": "stdout",
          "text": [
            "0.4263603405643366\n"
          ]
        }
      ]
    },
    {
      "cell_type": "code",
      "metadata": {
        "colab": {
          "base_uri": "https://localhost:8080/"
        },
        "id": "V8uXU0HezFld",
        "outputId": "2d3ce828-dca0-4703-b9d6-b9596f191fbd"
      },
      "source": [
        "print(np.mean(moving_av_london))\n",
        "print(np.mean(moving_av_global))"
      ],
      "execution_count": 23,
      "outputs": [
        {
          "output_type": "stream",
          "name": "stdout",
          "text": [
            "9.447559523880951\n",
            "8.342258597876985\n"
          ]
        }
      ]
    },
    {
      "cell_type": "code",
      "metadata": {
        "colab": {
          "base_uri": "https://localhost:8080/"
        },
        "id": "yKiIi-j1zPQS",
        "outputId": "d050703a-b372-47fe-cf52-086681dfe128"
      },
      "source": [
        "print(\"The variance in London's local temperature is:\", london_std**2)\n",
        "print(\"The variance in global temperature is:\", global_std**2)"
      ],
      "execution_count": 24,
      "outputs": [
        {
          "output_type": "stream",
          "name": "stdout",
          "text": [
            "The variance in London's local temperature is: 0.1247481557827365\n",
            "The variance in global temperature is: 0.18178314000613707\n"
          ]
        }
      ]
    },
    {
      "cell_type": "code",
      "metadata": {
        "colab": {
          "base_uri": "https://localhost:8080/"
        },
        "id": "17foK_jlv5do",
        "outputId": "9fc50ba8-66b0-4285-c92c-15deacc5a7c7"
      },
      "source": [
        "print(\"The max London temperature was:\", max(moving_av_london))\n",
        "print(\"The minimum London temperature was:\", min(moving_av_london))\n",
        "print(\"The max global temperature was:\", max(moving_av_global))\n",
        "print(\"The minimum global temperature was:\", min(moving_av_global))"
      ],
      "execution_count": 25,
      "outputs": [
        {
          "output_type": "stream",
          "name": "stdout",
          "text": [
            "The max London temperature was: 10.66916667\n",
            "The minimum London temperature was: 8.844166667\n",
            "The max global temperature was: 9.555\n",
            "The minimum global temperature was: 7.268333332999999\n"
          ]
        }
      ]
    },
    {
      "cell_type": "markdown",
      "metadata": {
        "id": "pxP_C02DMdiB"
      },
      "source": [
        "Graphing the Changes in Temperature"
      ]
    },
    {
      "cell_type": "code",
      "metadata": {
        "id": "pcQQHHJINIQO"
      },
      "source": [
        "#Finding the changes in temperature each year\n",
        "london_temp_change = np.diff(moving_av_london)\n",
        "global_temp_change = np.diff(moving_av_global)\n",
        "#Getting rid of the first recorded year because no change can be observed\n",
        "years = years[1:]"
      ],
      "execution_count": 26,
      "outputs": []
    },
    {
      "cell_type": "code",
      "metadata": {
        "colab": {
          "base_uri": "https://localhost:8080/",
          "height": 295
        },
        "id": "EtqGEAZkNWLl",
        "outputId": "87db651d-f211-4ffd-8d2c-0d593a5bd860"
      },
      "source": [
        "plt.plot(years,london_temp_change,label='London',color='r')\n",
        "plt.plot(years,global_temp_change,label='Global',color='y')\n",
        "plt.title('Change in Temperature vs. Year')\n",
        "plt.ylabel('Change in Temperature in degrees Celsius')\n",
        "plt.xlabel('Year')\n",
        "plt.legend()\n",
        "plt.show()"
      ],
      "execution_count": 27,
      "outputs": [
        {
          "output_type": "display_data",
          "data": {
            "image/png": "[encoded data removed]",
            "text/plain": [
              "<Figure size 432x288 with 1 Axes>"
            ]
          },
          "metadata": {
            "needs_background": "light"
          }
        }
      ]
    },
    {
      "cell_type": "markdown",
      "metadata": {
        "id": "emJ7nXs3Mhfq"
      },
      "source": [
        "Graphing the differences in temperature between London and the globe for a given year"
      ]
    },
    {
      "cell_type": "code",
      "metadata": {
        "id": "HAt6_8JBXnpg"
      },
      "source": [
        "moving_av_global_array = moving_av_global.to_numpy()"
      ],
      "execution_count": 28,
      "outputs": []
    },
    {
      "cell_type": "code",
      "metadata": {
        "id": "7E2rQsdwXvrS"
      },
      "source": [
        "moving_av_london_array = moving_av_london.to_numpy()"
      ],
      "execution_count": 29,
      "outputs": []
    },
    {
      "cell_type": "code",
      "metadata": {
        "id": "3vSbROq2W8Zq"
      },
      "source": [
        "difference = np.subtract(moving_av_global_array,moving_av_london_array)"
      ],
      "execution_count": 30,
      "outputs": []
    },
    {
      "cell_type": "code",
      "metadata": {
        "id": "jRMRmoT4X-7l"
      },
      "source": [
        "years_array = years.to_numpy()"
      ],
      "execution_count": 31,
      "outputs": []
    },
    {
      "cell_type": "code",
      "metadata": {
        "id": "ZgnJHCVsYVNd"
      },
      "source": [
        "year_1750 = np.append(1750,years_array)"
      ],
      "execution_count": 32,
      "outputs": []
    },
    {
      "cell_type": "code",
      "metadata": {
        "colab": {
          "base_uri": "https://localhost:8080/"
        },
        "id": "OHFZCma6Y2n-",
        "outputId": "8b5fedb7-71e6-4f62-899d-466d3b91ac0f"
      },
      "source": [
        "print(year_1750)"
      ],
      "execution_count": 33,
      "outputs": [
        {
          "output_type": "stream",
          "name": "stdout",
          "text": [
            "[1750 1763 1764 1765 1766 1767 1768 1769 1770 1771 1772 1773 1774 1775\n",
            " 1776 1777 1778 1779 1780 1781 1782 1783 1784 1785 1786 1787 1788 1789\n",
            " 1790 1791 1792 1793 1794 1795 1796 1797 1798 1799 1800 1801 1802 1803\n",
            " 1804 1805 1806 1807 1808 1809 1810 1811 1812 1813 1814 1815 1816 1817\n",
            " 1818 1819 1820 1821 1822 1823 1824 1825 1826 1827 1828 1829 1830 1831\n",
            " 1832 1833 1834 1835 1836 1837 1838 1839 1840 1841 1842 1843 1844 1845\n",
            " 1846 1847 1848 1849 1850 1851 1852 1853 1854 1855 1856 1857 1858 1859\n",
            " 1860 1861 1862 1863 1864 1865 1866 1867 1868 1869 1870 1871 1872 1873\n",
            " 1874 1875 1876 1877 1878 1879 1880 1881 1882 1883 1884 1885 1886 1887\n",
            " 1888 1889 1890 1891 1892 1893 1894 1895 1896 1897 1898 1899 1900 1901\n",
            " 1902 1903 1904 1905 1906 1907 1908 1909 1910 1911 1912 1913 1914 1915\n",
            " 1916 1917 1918 1919 1920 1921 1922 1923 1924 1925 1926 1927 1928 1929\n",
            " 1930 1931 1932 1933 1934 1935 1936 1937 1938 1939 1940 1941 1942 1943\n",
            " 1944 1945 1946 1947 1948 1949 1950 1951 1952 1953 1954 1955 1956 1957\n",
            " 1958 1959 1960 1961 1962 1963 1964 1965 1966 1967 1968 1969 1970 1971\n",
            " 1972 1973 1974 1975 1976 1977 1978 1979 1980 1981 1982 1983 1984 1985\n",
            " 1986 1987 1988 1989 1990 1991 1992 1993 1994 1995 1996 1997 1998 1999\n",
            " 2000 2001 2002 2003 2004 2005 2006 2007 2008 2009 2010 2011 2012 2013]\n"
          ]
        }
      ]
    },
    {
      "cell_type": "code",
      "metadata": {
        "colab": {
          "base_uri": "https://localhost:8080/",
          "height": 295
        },
        "id": "hr8Y_6UJWJ2M",
        "outputId": "83be417e-7421-474a-a64f-c9cd12a5312a"
      },
      "source": [
        "plt.plot(year_1750,difference,color='g')\n",
        "plt.title('Temperature Difference between London and Globe vs. Year')\n",
        "plt.xlabel('Year')\n",
        "plt.ylabel('Temperature Difference in degrees Celsius')\n",
        "plt.show()"
      ],
      "execution_count": 34,
      "outputs": [
        {
          "output_type": "display_data",
          "data": {
            "image/png": "[encoded data removed]",
            "text/plain": [
              "<Figure size 432x288 with 1 Axes>"
            ]
          },
          "metadata": {
            "needs_background": "light"
          }
        }
      ]
    },
    {
      "cell_type": "code",
      "metadata": {
        "colab": {
          "base_uri": "https://localhost:8080/"
        },
        "id": "ltPVBQB3JAQG",
        "outputId": "560e3fd9-7376-4768-af8f-16223092bbcf"
      },
      "source": [
        "#Calculate the standard deviation of the temperature differences\n",
        "difference_std = np.std(difference)\n",
        "print(difference_std)"
      ],
      "execution_count": 50,
      "outputs": [
        {
          "output_type": "stream",
          "name": "stdout",
          "text": [
            "0.19860650553136494\n"
          ]
        }
      ]
    },
    {
      "cell_type": "code",
      "metadata": {
        "colab": {
          "base_uri": "https://localhost:8080/"
        },
        "id": "r3PMBBpjJuoI",
        "outputId": "1be58d29-7574-4550-cd38-c411d8a934ab"
      },
      "source": [
        "print(np.mean(difference))\n",
        "print(max(difference))\n",
        "print(min(difference))\n",
        "print(difference_std**2)"
      ],
      "execution_count": 51,
      "outputs": [
        {
          "output_type": "stream",
          "name": "stdout",
          "text": [
            "-1.1053009260039681\n",
            "-0.6283333329999987\n",
            "-1.7300000000000004\n",
            "0.039444544039380094\n"
          ]
        }
      ]
    },
    {
      "cell_type": "markdown",
      "metadata": {
        "id": "dDnCtci4QL_F"
      },
      "source": [
        "See extra challenges in the criteria to make this project stand out!"
      ]
    },
    {
      "cell_type": "code",
      "metadata": {
        "colab": {
          "base_uri": "https://localhost:8080/",
          "height": 295
        },
        "id": "Ctw7y_TeZU1J",
        "outputId": "66984557-ad77-4735-ef4b-fe32b4f65ce8"
      },
      "source": [
        "# See if the temperatures follow a linear relationship:\n",
        "\n",
        "plt.scatter(moving_av_global,moving_av_london, color='b')\n",
        "plt.title('London Temp vs. Global Temp')\n",
        "plt.ylabel('London Temp in degrees Celsius')\n",
        "plt.xlabel('Global Temp in degrees Celsius')\n",
        "plt.show()"
      ],
      "execution_count": 35,
      "outputs": [
        {
          "output_type": "display_data",
          "data": {
            "image/png": "[encoded data removed]",
            "text/plain": [
              "<Figure size 432x288 with 1 Axes>"
            ]
          },
          "metadata": {
            "needs_background": "light"
          }
        }
      ]
    },
    {
      "cell_type": "markdown",
      "metadata": {
        "id": "2NwoAq1MZvhf"
      },
      "source": [
        "Now use the data to fit a straight line and make some predictions. Use LinearRegression and calculate the coefficient of correlation"
      ]
    },
    {
      "cell_type": "code",
      "metadata": {
        "colab": {
          "base_uri": "https://localhost:8080/"
        },
        "id": "m7uNe1JIUL6Z",
        "outputId": "ff0f6c4e-1310-4bbb-9565-9a2d889b6102"
      },
      "source": [
        "#Checking for nans\n",
        "np.any(np.isnan(moving_av_global))"
      ],
      "execution_count": 36,
      "outputs": [
        {
          "output_type": "execute_result",
          "data": {
            "text/plain": [
              "False"
            ]
          },
          "metadata": {},
          "execution_count": 36
        }
      ]
    },
    {
      "cell_type": "code",
      "metadata": {
        "id": "2RWn-7fNUsc5"
      },
      "source": [
        "from sklearn.impute import SimpleImputer\n",
        "imputer = SimpleImputer(missing_values=np.nan,strategy='median')\n",
        "moving_av_global_array = imputer.fit_transform(moving_av_global_array.reshape(-1,1))"
      ],
      "execution_count": 37,
      "outputs": []
    },
    {
      "cell_type": "code",
      "metadata": {
        "colab": {
          "base_uri": "https://localhost:8080/"
        },
        "id": "LO16Fh2xVBrn",
        "outputId": "00ccd622-bd1e-4978-d40e-40247f1eac73"
      },
      "source": [
        "np.any(np.isnan(moving_av_global_array))"
      ],
      "execution_count": 38,
      "outputs": [
        {
          "output_type": "execute_result",
          "data": {
            "text/plain": [
              "False"
            ]
          },
          "metadata": {},
          "execution_count": 38
        }
      ]
    },
    {
      "cell_type": "code",
      "metadata": {
        "colab": {
          "base_uri": "https://localhost:8080/"
        },
        "id": "PhrSOB2tUew8",
        "outputId": "98c81d35-ac4f-45f5-ed35-97f2c29bdbbc"
      },
      "source": [
        "np.any(np.isnan(moving_av_london_array))"
      ],
      "execution_count": 39,
      "outputs": [
        {
          "output_type": "execute_result",
          "data": {
            "text/plain": [
              "False"
            ]
          },
          "metadata": {},
          "execution_count": 39
        }
      ]
    },
    {
      "cell_type": "code",
      "metadata": {
        "colab": {
          "base_uri": "https://localhost:8080/"
        },
        "id": "hgHKCoZ_Vp7D",
        "outputId": "e89d4744-ee87-4f80-98a0-1c60b9e8c653"
      },
      "source": [
        "moving_av_global_array.flatten().shape"
      ],
      "execution_count": 40,
      "outputs": [
        {
          "output_type": "execute_result",
          "data": {
            "text/plain": [
              "(252,)"
            ]
          },
          "metadata": {},
          "execution_count": 40
        }
      ]
    },
    {
      "cell_type": "code",
      "metadata": {
        "colab": {
          "base_uri": "https://localhost:8080/"
        },
        "id": "PvASXr4ZVsrM",
        "outputId": "165bfa6e-6919-4a7c-b24a-e11b109bf74e"
      },
      "source": [
        "moving_av_london_array.shape"
      ],
      "execution_count": 41,
      "outputs": [
        {
          "output_type": "execute_result",
          "data": {
            "text/plain": [
              "(252,)"
            ]
          },
          "metadata": {},
          "execution_count": 41
        }
      ]
    },
    {
      "cell_type": "code",
      "metadata": {
        "colab": {
          "base_uri": "https://localhost:8080/"
        },
        "id": "AQWIsAEFVU0k",
        "outputId": "1b45af11-ce08-452a-9321-156021a1b3c0"
      },
      "source": [
        "correlation_coefficient = np.corrcoef(moving_av_global_array.flatten(),moving_av_london_array)\n",
        "print(\"The correlation coefficient is:\",correlation_coefficient[0][1])"
      ],
      "execution_count": 42,
      "outputs": [
        {
          "output_type": "stream",
          "name": "stdout",
          "text": [
            "The correlation coefficient is: 0.8868057150159281\n"
          ]
        }
      ]
    },
    {
      "cell_type": "markdown",
      "metadata": {
        "id": "3wvt_W1AWNo-"
      },
      "source": [
        "Create a prediction of the local temperature given the global temperature:"
      ]
    },
    {
      "cell_type": "code",
      "metadata": {
        "id": "5KYc3GrmWIiJ"
      },
      "source": [
        "X = moving_av_london_array.reshape(-1,1)\n",
        "y = moving_av_global_array.reshape(-1,1)\n",
        "from sklearn.linear_model import LinearRegression\n",
        "linreg = LinearRegression()\n",
        "from sklearn.model_selection import train_test_split\n",
        "X_train, X_test, y_train, y_test = train_test_split(X, y, test_size=0.2, random_state=42)"
      ],
      "execution_count": 43,
      "outputs": []
    },
    {
      "cell_type": "code",
      "metadata": {
        "colab": {
          "base_uri": "https://localhost:8080/"
        },
        "id": "BcLZzD2Sx8c-",
        "outputId": "3e8d1a87-a4c6-4b05-b95c-02fd3937e8b3"
      },
      "source": [
        "linreg.fit(X_train,y_train)"
      ],
      "execution_count": 44,
      "outputs": [
        {
          "output_type": "execute_result",
          "data": {
            "text/plain": [
              "LinearRegression(copy_X=True, fit_intercept=True, n_jobs=None, normalize=False)"
            ]
          },
          "metadata": {},
          "execution_count": 44
        }
      ]
    },
    {
      "cell_type": "code",
      "metadata": {
        "id": "POxG8qQFyQIz"
      },
      "source": [
        "y_pred = linreg.predict(X_test)"
      ],
      "execution_count": 45,
      "outputs": []
    },
    {
      "cell_type": "code",
      "metadata": {
        "colab": {
          "base_uri": "https://localhost:8080/",
          "height": 295
        },
        "id": "PPiLd2JoW7ES",
        "outputId": "fedb3a59-9bce-45f2-cee6-6b43691ec556"
      },
      "source": [
        "plt.scatter(y_pred,y_test)\n",
        "plt.xlabel('Predicted Global Temperature')\n",
        "plt.ylabel('Actual Global Temperature')\n",
        "plt.title('Actual Global Temperatures vs. Predicted Global Temperatures')\n",
        "plt.show()"
      ],
      "execution_count": 46,
      "outputs": [
        {
          "output_type": "display_data",
          "data": {
            "image/png": "[encoded data removed]",
            "text/plain": [
              "<Figure size 432x288 with 1 Axes>"
            ]
          },
          "metadata": {
            "needs_background": "light"
          }
        }
      ]
    },
    {
      "cell_type": "code",
      "metadata": {
        "colab": {
          "base_uri": "https://localhost:8080/"
        },
        "id": "x9O5el4iXOKl",
        "outputId": "c13ce615-a007-49c7-e047-5ee8e0f23c28"
      },
      "source": [
        "#Evaluate these predictions\n",
        "from sklearn.metrics import mean_squared_error\n",
        "mse = mean_squared_error(y_test,y_pred)\n",
        "rmse = mse**0.5\n",
        "print(rmse)"
      ],
      "execution_count": 47,
      "outputs": [
        {
          "output_type": "stream",
          "name": "stdout",
          "text": [
            "0.17899612712740529\n"
          ]
        }
      ]
    },
    {
      "cell_type": "code",
      "metadata": {
        "colab": {
          "base_uri": "https://localhost:8080/"
        },
        "id": "AXCy1YZIylka",
        "outputId": "319757a8-d4a5-4807-f2a3-0efd4c6015c6"
      },
      "source": [
        "print(np.std(X))\n",
        "print(np.std(y))"
      ],
      "execution_count": 48,
      "outputs": [
        {
          "output_type": "stream",
          "name": "stdout",
          "text": [
            "0.3531970495102366\n",
            "0.4263603405643366\n"
          ]
        }
      ]
    },
    {
      "cell_type": "code",
      "metadata": {
        "colab": {
          "base_uri": "https://localhost:8080/"
        },
        "id": "-9ZT-rwEX9ob",
        "outputId": "60bd4a79-d398-4a52-e486-4decd4258dba"
      },
      "source": [
        "#Make some predictions\n",
        "linreg.predict([[10.0]])"
      ],
      "execution_count": 49,
      "outputs": [
        {
          "output_type": "execute_result",
          "data": {
            "text/plain": [
              "array([[8.93171152]])"
            ]
          },
          "metadata": {},
          "execution_count": 49
        }
      ]
    }
  ]
}